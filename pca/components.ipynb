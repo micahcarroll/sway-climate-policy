{
 "cells": [
  {
   "cell_type": "code",
   "execution_count": 333,
   "metadata": {
    "collapsed": true
   },
   "outputs": [],
   "source": [
    "import pandas as pd\n",
    "import numpy as np\n",
    "import matplotlib.pyplot as plt\n",
    "from mpl_toolkits.mplot3d import Axes3D\n",
    "from sklearn.metrics import silhouette_score, recall_score, f1_score, precision_score, accuracy_score\n",
    "from sklearn.cluster import KMeans\n",
    "from sklearn.model_selection import train_test_split\n",
    "from sklearn.preprocessing import StandardScaler, normalize\n",
    "from sklearn.decomposition import PCA"
   ]
  },
  {
   "cell_type": "code",
   "execution_count": 347,
   "metadata": {
    "collapsed": true
   },
   "outputs": [],
   "source": [
    "def read_data():\n",
    "#     df = pd.read_csv('data/initial_data.csv')\n",
    "    df = pd.read_csv('voting_data_2000.csv')\n",
    "    current = pd.read_csv('data/initial_data.csv')\n",
    "    current_names = current['name'].unique()\n",
    "    df = df[df['name'].isin(current_names)]\n",
    "    df = df.set_index('name')\n",
    "    return df"
   ]
  },
  {
   "cell_type": "code",
   "execution_count": 348,
   "metadata": {
    "collapsed": true
   },
   "outputs": [],
   "source": [
    "def format_data(df):\n",
    "    df = df.iloc[:,6:]\n",
    "    for col in df.columns:\n",
    "        temp = df[col].apply(lambda x: x if x in ['Yes','No','Not Voting'] else 0)\n",
    "        temp = np.where(df[col] == 'Yes',1,temp)\n",
    "        temp = np.where(df[col] == 'No',-1,temp)\n",
    "        temp = np.where(df[col] == 'Not Voting',0,temp)\n",
    "        df[col] = temp\n",
    "        df[col].fillna(0)\n",
    "    return df"
   ]
  },
  {
   "cell_type": "code",
   "execution_count": 349,
   "metadata": {
    "collapsed": false
   },
   "outputs": [
    {
     "data": {
      "image/png": "[encoded data removed]",
      "text/plain": [
       "<matplotlib.figure.Figure at 0x110a4b290>"
      ]
     },
     "metadata": {},
     "output_type": "display_data"
    }
   ],
   "source": [
    "def plot_PCA_reduction(X, with_labels=False, labels=None):\n",
    "    fig = plt.figure(1, figsize=(12, 12))\n",
    "    plt.clf()\n",
    "    ax = Axes3D(fig, rect=[0, 0, .95, 1], elev=48, azim=134)\n",
    "    plt.cla()\n",
    "    if with_labels:\n",
    "        for label in labels.unique():\n",
    "            ax.text3D(X[labels == label, 0].mean(),\n",
    "                      X[labels == label, 1].mean() + 1.5,\n",
    "                      X[labels == label, 2].mean(), str(label),\n",
    "                      horizontalalignment='center',\n",
    "                      bbox=dict(alpha=.5, edgecolor='w', facecolor='w'))\n",
    "        colours = np.where(labels==labels.unique()[0],'r','b')\n",
    "        ax.scatter(X[:, 0], X[:, 1], X[:, 2],c=colours, cmap=plt.cm.spectral,\n",
    "                   edgecolor='k')\n",
    "    else:\n",
    "        ax.scatter(X[:, 0], X[:, 1], X[:, 2], cmap=plt.cm.spectral,\n",
    "                   edgecolor='k')\n",
    "    ax.w_xaxis.set_ticklabels([])\n",
    "    ax.w_yaxis.set_ticklabels([])\n",
    "    ax.w_zaxis.set_ticklabels([])\n",
    "    plt.show()\n",
    "    pass\n",
    "\n",
    "\n",
    "if __name__ == '__main__':\n",
    "    # Read in data\n",
    "    df = read_data()\n",
    "    # Format data and take care of missing values\n",
    "    votes = format_data(df)\n",
    "    # Experiment with PCA\n",
    "    pca = PCA(n_components=4)\n",
    "    reduced = pca.fit_transform(votes)\n",
    "    # plot_PCA_reduction(reduced, with_labels=True, labels=df['party'])\n",
    "    # Find axis with D + R split = axis 0 as expdcted\n",
    "    # Project onto remainig axis\n",
    "    X = reduced[:,0]\n",
    "    y = reduced[:,1]\n",
    "    colours = df['party'].apply(lambda x: 'r' if x=='R' else 'b')\n",
    "    plt.scatter(X, y , c=colours)\n",
    "    plt.show()\n",
    "    # res = pd.DataFrame({'x':X, 'y':y, 'z':colours})\n",
    "    # res.to_csv('pca_results.csv')\n",
    "    # Identify TOP climate hawk\n",
    "    ## Calculate typical climmate hawk vector\n",
    "    # Identify TOP climate denier\n",
    "    ## Calculate typical climate denier"
   ]
  },
  {
   "cell_type": "code",
   "execution_count": 350,
   "metadata": {
    "collapsed": false
   },
   "outputs": [
    {
     "data": {
      "text/plain": [
       "array([ 0.7515604 ,  0.03191503,  0.02810739,  0.01454082])"
      ]
     },
     "execution_count": 350,
     "metadata": {},
     "output_type": "execute_result"
    }
   ],
   "source": [
    "pca.explained_variance_ratio_"
   ]
  },
  {
   "cell_type": "code",
   "execution_count": 351,
   "metadata": {
    "collapsed": false
   },
   "outputs": [
    {
     "data": {
      "text/plain": [
       "(4, 1865)"
      ]
     },
     "execution_count": 351,
     "metadata": {},
     "output_type": "execute_result"
    }
   ],
   "source": [
    "pca.components_.shape"
   ]
  },
  {
   "cell_type": "code",
   "execution_count": 339,
   "metadata": {
    "collapsed": false
   },
   "outputs": [],
   "source": [
    "bill_data = pd.read_csv('bill_data_2000.csv')"
   ]
  },
  {
   "cell_type": "code",
   "execution_count": 340,
   "metadata": {
    "collapsed": false
   },
   "outputs": [],
   "source": [
    "# get voting record data\n",
    "df = read_data()\n",
    "bill_names = np.array(format_data(df).columns.values)"
   ]
  },
  {
   "cell_type": "code",
   "execution_count": 344,
   "metadata": {
    "collapsed": false
   },
   "outputs": [],
   "source": [
    "# axis 1\n",
    "A0 = pca.components_[1]\n",
    "A0_df = pd.DataFrame({'coefficient': A0, 'bill': bill_names}).sort_values('coefficient', axis=0, ascending=False)"
   ]
  },
  {
   "cell_type": "code",
   "execution_count": 345,
   "metadata": {
    "collapsed": false
   },
   "outputs": [],
   "source": [
    "# join with bill data table\n",
    "A0_df['bill_slug'] = A0_df['bill'].apply(lambda x: x.split('-')[0])\n",
    "A0_results = A0_df.set_index('bill_slug').join(bill_data.set_index('bill_slug'))[['coefficient', 'bill', 'summary', 'subjects']]\n",
    "A0_results = A0_results.drop_duplicates('bill').sort_values('coefficient', ascending=False)"
   ]
  },
  {
   "cell_type": "code",
   "execution_count": 346,
   "metadata": {
    "collapsed": false
   },
   "outputs": [
    {
     "data": {
      "text/html": [
       "<div>\n",
       "<table border=\"1\" class=\"dataframe\">\n",
       "  <thead>\n",
       "    <tr style=\"text-align: right;\">\n",
       "      <th></th>\n",
       "      <th>coefficient</th>\n",
       "      <th>bill</th>\n",
       "      <th>summary</th>\n",
       "      <th>subjects</th>\n",
       "    </tr>\n",
       "    <tr>\n",
       "      <th>bill_slug</th>\n",
       "      <th></th>\n",
       "      <th></th>\n",
       "      <th></th>\n",
       "      <th></th>\n",
       "    </tr>\n",
       "  </thead>\n",
       "  <tbody>\n",
       "    <tr>\n",
       "      <th>hr3354_x.8</th>\n",
       "      <td>0.041517</td>\n",
       "      <td>hr3354_x.8</td>\n",
       "      <td>NaN</td>\n",
       "      <td>NaN</td>\n",
       "    </tr>\n",
       "    <tr>\n",
       "      <th>hr3354_x.2</th>\n",
       "      <td>0.040859</td>\n",
       "      <td>hr3354_x.2</td>\n",
       "      <td>NaN</td>\n",
       "      <td>NaN</td>\n",
       "    </tr>\n",
       "    <tr>\n",
       "      <th>hres616_y</th>\n",
       "      <td>0.040750</td>\n",
       "      <td>hres616_y</td>\n",
       "      <td>NaN</td>\n",
       "      <td>NaN</td>\n",
       "    </tr>\n",
       "    <tr>\n",
       "      <th>hres619_y</th>\n",
       "      <td>0.040647</td>\n",
       "      <td>hres619_y</td>\n",
       "      <td>NaN</td>\n",
       "      <td>NaN</td>\n",
       "    </tr>\n",
       "    <tr>\n",
       "      <th>hres619_x</th>\n",
       "      <td>0.040618</td>\n",
       "      <td>hres619_x</td>\n",
       "      <td>NaN</td>\n",
       "      <td>NaN</td>\n",
       "    </tr>\n",
       "    <tr>\n",
       "      <th>hres414_y</th>\n",
       "      <td>0.040567</td>\n",
       "      <td>hres414_y</td>\n",
       "      <td>NaN</td>\n",
       "      <td>NaN</td>\n",
       "    </tr>\n",
       "    <tr>\n",
       "      <th>hres468_x</th>\n",
       "      <td>0.040535</td>\n",
       "      <td>hres468_x</td>\n",
       "      <td>NaN</td>\n",
       "      <td>NaN</td>\n",
       "    </tr>\n",
       "    <tr>\n",
       "      <th>hres414_x</th>\n",
       "      <td>0.040505</td>\n",
       "      <td>hres414_x</td>\n",
       "      <td>NaN</td>\n",
       "      <td>NaN</td>\n",
       "    </tr>\n",
       "    <tr>\n",
       "      <th>hres440_y</th>\n",
       "      <td>0.040475</td>\n",
       "      <td>hres440_y</td>\n",
       "      <td>NaN</td>\n",
       "      <td>NaN</td>\n",
       "    </tr>\n",
       "    <tr>\n",
       "      <th>hres601_x</th>\n",
       "      <td>0.040469</td>\n",
       "      <td>hres601_x</td>\n",
       "      <td>NaN</td>\n",
       "      <td>NaN</td>\n",
       "    </tr>\n",
       "  </tbody>\n",
       "</table>\n",
       "</div>"
      ],
      "text/plain": [
       "            coefficient        bill summary subjects\n",
       "bill_slug                                           \n",
       "hr3354_x.8     0.041517  hr3354_x.8     NaN      NaN\n",
       "hr3354_x.2     0.040859  hr3354_x.2     NaN      NaN\n",
       "hres616_y      0.040750   hres616_y     NaN      NaN\n",
       "hres619_y      0.040647   hres619_y     NaN      NaN\n",
       "hres619_x      0.040618   hres619_x     NaN      NaN\n",
       "hres414_y      0.040567   hres414_y     NaN      NaN\n",
       "hres468_x      0.040535   hres468_x     NaN      NaN\n",
       "hres414_x      0.040505   hres414_x     NaN      NaN\n",
       "hres440_y      0.040475   hres440_y     NaN      NaN\n",
       "hres601_x      0.040469   hres601_x     NaN      NaN"
      ]
     },
     "execution_count": 346,
     "metadata": {},
     "output_type": "execute_result"
    }
   ],
   "source": [
    "# take top 5 bills\n",
    "pd.options.display.max_colwidth = 100\n",
    "A0_results[0:10]"
   ]
  },
  {
   "cell_type": "code",
   "execution_count": null,
   "metadata": {
    "collapsed": true
   },
   "outputs": [],
   "source": []
  }
 ],
 "metadata": {
  "kernelspec": {
   "display_name": "Python 2",
   "language": "python",
   "name": "python2"
  },
  "language_info": {
   "codemirror_mode": {
    "name": "ipython",
    "version": 2
   },
   "file_extension": ".py",
   "mimetype": "text/x-python",
   "name": "python",
   "nbconvert_exporter": "python",
   "pygments_lexer": "ipython2",
   "version": "2.7.10"
  }
 },
 "nbformat": 4,
 "nbformat_minor": 2
}
